{
 "cells": [
  {
   "cell_type": "markdown",
   "metadata": {},
   "source": [
    "Problem https://edabit.com/challenge/uGN6vd3t2ycfnCpfv (5 points)"
   ]
  },
  {
   "cell_type": "code",
   "execution_count": 73,
   "metadata": {},
   "outputs": [],
   "source": [
    "class Test:\n",
    "    @staticmethod\n",
    "    def assert_equals(a, b, *args, **kwargs):\n",
    "        assert a == b\n",
    "        print('Passed')"
   ]
  },
  {
   "cell_type": "code",
   "execution_count": 72,
   "metadata": {},
   "outputs": [],
   "source": [
    "def split(s):\n",
    "    n = 0; from_ = 0; to_ = 0\n",
    "    res = []\n",
    "    for i in s:\n",
    "        to_ = to_ + 1\n",
    "        if i == \"(\":\n",
    "            n = n + 1\n",
    "        elif i == \")\": n = n - 1\n",
    "        if n == 0:\n",
    "            res.append(s[from_:to_])\n",
    "            from_ = to_\n",
    "    return res"
   ]
  },
  {
   "cell_type": "code",
   "execution_count": 76,
   "metadata": {},
   "outputs": [
    {
     "name": "stdout",
     "output_type": "stream",
     "text": [
      "Passed\n",
      "Passed\n",
      "Passed\n",
      "Passed\n"
     ]
    }
   ],
   "source": [
    "Test.assert_equals(split(\"()()()\"), [\"()\", \"()\", \"()\"])\n",
    "Test.assert_equals(split(\"((()))\"), [\"((()))\"])\n",
    "Test.assert_equals(split(\"((()))(())()()(()())\"), [\"((()))\", \"(())\", \"()\", \"()\", \"(()())\"])\n",
    "Test.assert_equals(split(\"((())())(()(()()))\"), [\"((())())\", \"(()(()()))\"])"
   ]
  },
  {
   "cell_type": "markdown",
   "metadata": {},
   "source": [
    "Problem https://edabit.com/challenge/79tuQhjqs8fT7zKCY (5 points)"
   ]
  },
  {
   "cell_type": "code",
   "execution_count": 117,
   "metadata": {},
   "outputs": [],
   "source": [
    "def postfix(s):\n",
    "    stack_res = []\n",
    "    for i in s.split():\n",
    "        if i in [\"*\", \"/\", \"+\", \"-\"]:\n",
    "            second = stack_res.pop()\n",
    "            first = stack_res.pop()\n",
    "        if i == \"*\":\n",
    "            stack_res.append(first * second)\n",
    "        elif i == \"/\":\n",
    "            stack_res.append(first / second)\n",
    "        elif i == \"+\":\n",
    "            stack_res.append(first + second)\n",
    "        elif i == \"-\":\n",
    "            stack_res.append(first - second)\n",
    "        else:\n",
    "            stack_res.append(int(i))\n",
    "    return stack_res.pop()"
   ]
  },
  {
   "cell_type": "code",
   "execution_count": 121,
   "metadata": {},
   "outputs": [
    {
     "name": "stdout",
     "output_type": "stream",
     "text": [
      "Passed\n",
      "Passed\n"
     ]
    }
   ],
   "source": [
    "Test.assert_equals(postfix(\"2 3 * 1 - 5 /\"), 1)\n",
    "Test.assert_equals(postfix(\"2 2 +\"), 4)"
   ]
  },
  {
   "cell_type": "markdown",
   "metadata": {},
   "source": [
    "Problem https://edabit.com/challenge/KZFEAv8Sqh9zW5eLS (5 points)"
   ]
  },
  {
   "cell_type": "code",
   "execution_count": 126,
   "metadata": {},
   "outputs": [],
   "source": [
    "def is_val_in_tree(tree, val):\n",
    "    if tree is None: return False\n",
    "    if tree[0] == val: return True\n",
    "    else: return is_val_in_tree(tree[1], val) or is_val_in_tree(tree[2], val)"
   ]
  },
  {
   "cell_type": "code",
   "execution_count": 129,
   "metadata": {},
   "outputs": [
    {
     "name": "stdout",
     "output_type": "stream",
     "text": [
      "Passed\n",
      "Passed\n"
     ]
    }
   ],
   "source": [
    "list1 = [3, [ 8, [ 5, None, None], None], [ 7, None, None]]\n",
    "Test.assert_equals(is_val_in_tree(list1, 5), True)\n",
    "Test.assert_equals(is_val_in_tree(list1, 9), False)"
   ]
  },
  {
   "cell_type": "code",
   "execution_count": null,
   "metadata": {},
   "outputs": [],
   "source": []
  }
 ],
 "metadata": {
  "kernelspec": {
   "display_name": "Python 3",
   "language": "python",
   "name": "python3"
  },
  "language_info": {
   "codemirror_mode": {
    "name": "ipython",
    "version": 3
   },
   "file_extension": ".py",
   "mimetype": "text/x-python",
   "name": "python",
   "nbconvert_exporter": "python",
   "pygments_lexer": "ipython3",
   "version": "3.8.3"
  }
 },
 "nbformat": 4,
 "nbformat_minor": 2
}
