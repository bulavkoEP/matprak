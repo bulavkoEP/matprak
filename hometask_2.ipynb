{
 "cells": [
  {
   "cell_type": "code",
   "execution_count": 5,
   "metadata": {},
   "outputs": [],
   "source": [
    "import numpy as np"
   ]
  },
  {
   "cell_type": "markdown",
   "metadata": {},
   "source": [
    "Task 1: Создайте двумерный массив 10x3, заполненный случайными значениями. В каждой строке выберите значение, наиболее близкое к 0.5."
   ]
  },
  {
   "cell_type": "code",
   "execution_count": 9,
   "metadata": {},
   "outputs": [
    {
     "name": "stdout",
     "output_type": "stream",
     "text": [
      "[[0.4246833  0.83916963 0.17481642]\n",
      " [0.15617924 0.79166877 0.45755379]\n",
      " [0.99124072 0.99051713 0.65139114]\n",
      " [0.71988214 0.15087223 0.80070611]\n",
      " [0.20082128 0.22027461 0.07389861]\n",
      " [0.27948851 0.81690147 0.73929867]\n",
      " [0.30414027 0.82850144 0.98427639]\n",
      " [0.17457546 0.38091232 0.97663419]\n",
      " [0.31672718 0.62897218 0.22946382]\n",
      " [0.12646446 0.24685531 0.31448942]]\n"
     ]
    },
    {
     "data": {
      "text/plain": [
       "array([0.4246833 , 0.45755379, 0.65139114, 0.71988214, 0.22027461,\n",
       "       0.27948851, 0.30414027, 0.38091232, 0.62897218, 0.31448942])"
      ]
     },
     "execution_count": 9,
     "metadata": {},
     "output_type": "execute_result"
    }
   ],
   "source": [
    "arr = np.random.sample((10, 3))\n",
    "print(arr)\n",
    "np.apply_along_axis(lambda x: x[np.argmin(abs(x - 0.5))], 1, arr)"
   ]
  },
  {
   "cell_type": "markdown",
   "metadata": {},
   "source": [
    "Task 2: Создайте двумерный массив 6x6, заполненный случайными значениями. Затем сумму по каждой строке поделите на минимальный элемент из столбца с тем же индексом."
   ]
  },
  {
   "cell_type": "code",
   "execution_count": 72,
   "metadata": {},
   "outputs": [
    {
     "name": "stdout",
     "output_type": "stream",
     "text": [
      "[[0.12375029 0.08673548 0.58528064 0.31093784 0.9016713  0.67558126]\n",
      " [0.64713342 0.85265352 0.75125292 0.62777817 0.67585159 0.2269463 ]\n",
      " [0.53502137 0.35948824 0.60103682 0.75457409 0.36935498 0.41823614]\n",
      " [0.9650536  0.55896091 0.97733547 0.53375154 0.32821828 0.10770335]\n",
      " [0.799046   0.67861437 0.03159145 0.64622124 0.15097979 0.29136645]\n",
      " [0.15709404 0.72858725 0.78282085 0.20436628 0.28704645 0.00699795]]\n"
     ]
    },
    {
     "data": {
      "text/plain": [
       "array([ 21.68848905,  43.59941191,  96.15613212,  16.98432418,\n",
       "        17.20640425, 309.6496574 ])"
      ]
     },
     "execution_count": 72,
     "metadata": {},
     "output_type": "execute_result"
    }
   ],
   "source": [
    "arr = np.array([[0.12375029, 0.08673548, 0.58528064, 0.31093784, 0.9016713,  0.67558126],\n",
    " [0.64713342, 0.85265352, 0.75125292, 0.62777817, 0.67585159, 0.2269463 ],\n",
    " [0.53502137, 0.35948824, 0.60103682, 0.75457409, 0.36935498, 0.41823614],\n",
    " [0.9650536,  0.55896091, 0.97733547, 0.53375154, 0.32821828, 0.10770335],\n",
    " [0.799046,   0.67861437, 0.03159145, 0.64622124, 0.15097979, 0.29136645],\n",
    " [0.15709404, 0.72858725, 0.78282085, 0.20436628, 0.28704645, 0.00699795]])\n",
    "print(arr)\n",
    "np.vectorize(lambda i: np.sum(arr[i, :]) / arr[np.argmin(arr[:, i]), i])(np.arange(6))"
   ]
  },
  {
   "cell_type": "markdown",
   "metadata": {},
   "source": [
    "Task 3: На примере массива x = np.array([6, 2, 0, 3, 0, 0, 5, 7, 0]) найдите максимальный элемент в массиве среди элементов, перед которыми стоит ноль."
   ]
  },
  {
   "cell_type": "code",
   "execution_count": 91,
   "metadata": {},
   "outputs": [
    {
     "data": {
      "text/plain": [
       "5"
      ]
     },
     "execution_count": 91,
     "metadata": {},
     "output_type": "execute_result"
    }
   ],
   "source": [
    "x = np.array([6, 2, 0, 3, 0, 0, 5, 7, 0])\n",
    "np.max(x[1:][(x == 0)[:-1]])"
   ]
  },
  {
   "cell_type": "markdown",
   "metadata": {},
   "source": [
    "Task 4: Пусть заданы два массива x = np.ones(10) и i = np.array([0, 1, 2, 3, 5, 5, 5, 8]). Прибавьте единицу к тем элементам массива x, индексы которых указаны в массиве i. В случае, если некоторый индекс встретился в массиве i несколько раз, прибавьте к соответствующему элементу массива x число вхождений данного индекса в массив i."
   ]
  },
  {
   "cell_type": "code",
   "execution_count": 98,
   "metadata": {},
   "outputs": [
    {
     "name": "stdout",
     "output_type": "stream",
     "text": [
      "[2. 2. 2. 2. 1. 4. 1. 1. 2. 1.]\n"
     ]
    }
   ],
   "source": [
    "x = np.ones(10)\n",
    "i = np.array([0, 1, 2, 3, 5, 5, 5, 8])\n",
    "for k in i: x[k] = x[k] + 1\n",
    "print(x)"
   ]
  },
  {
   "cell_type": "markdown",
   "metadata": {},
   "source": [
    "Task 5: Написать функцию, реализующую алгоритм k-means. Входные и выходные значения функции должны быть аналогичны https://docs.scipy.org/doc/scipy-0.15.1/reference/generated/scipy.cluster.vq.kmeans.html. Функция должна содержать только один цикл while (for)."
   ]
  },
  {
   "cell_type": "code",
   "execution_count": null,
   "metadata": {},
   "outputs": [],
   "source": [
    "kmeans(obs, k_or_guess):\n",
    "    "
   ]
  }
 ],
 "metadata": {
  "kernelspec": {
   "display_name": "Python 3",
   "language": "python",
   "name": "python3"
  },
  "language_info": {
   "codemirror_mode": {
    "name": "ipython",
    "version": 3
   },
   "file_extension": ".py",
   "mimetype": "text/x-python",
   "name": "python",
   "nbconvert_exporter": "python",
   "pygments_lexer": "ipython3",
   "version": "3.8.3"
  }
 },
 "nbformat": 4,
 "nbformat_minor": 4
}
